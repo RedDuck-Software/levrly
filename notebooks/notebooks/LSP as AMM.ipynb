{
 "metadata": {
  "kernelspec": {
   "display_name": ".NET (F#)",
   "language": "F#",
   "name": ".net-fsharp"
  },
  "language_info": {
   "name": "F#"
  }
 },
 "cells": [
  {
   "cell_type": "code",
   "execution_count": null,
   "source": [
    "let leverage ratio = (1.0M / (ratio - 1.0M)) + 1.0M\n",
    "let k collateral debt l = (debt * collateral) / (l * (l - 1.0M))\n",
    "let price collateral debt l = (l * debt) / (collateral * (l - 1.0M))\n",
    "\n",
    "let debtOut ratio collateral debt collateralIn = \n",
    "    let l = leverage ratio\n",
    "    let currentPrice = price collateral debt l\n",
    "    let excessCollateral = collateral - debt/currentPrice\n",
    "    let kStart = k collateral debt l\n",
    "    //let out = debt - (kStart * (l - 1.0M) * l) / (collateral + collateralIn)\n",
    "\n",
    "    // o = d - (k (l - 1) l)/(c + i) and c + i!=0 and l^2 !=l\n",
    "    //let out = debt - (kStart * (l - 1.0M) * l) / (collateral + collateralIn)  \n",
    "    // o = (c d + l (d t + k (-l) + k))/((l - 1) (c + l t)) and (l - 1) (c + l t)!=0 and l!=0\n",
    "    //let out = (collateral * debt + (l * (debt * collateralIn - kStart * l + kStart))) / ((l - 1.0m) * (collateral + l * collateralIn))\n",
    "    // o = k/(l^2 (c + t)) - d and l (c + t)!=0\n",
    "    // let out = kStart / (l * l * (collateral + collateralIn)) - debt\n",
    "    // // o = k/((l - 1) l (c + t)) - d and (l - 1) l (c + t)!=0\n",
    "    // let out = kStart / ((l - 1.0M) * l * (collateral + collateralIn)) - debt\n",
    "    // // o = d - k/((l - 1) l (c + t)) and (l - 1) l (c + t)!=0\n",
    "    // let out = debt - kStart / ((l - 1.0M) * l * (collateral + collateralIn))\n",
    "    // // o = d - k/((l - 1) l^2 (c + t)) and (l - 1) l (c + t)!=0\n",
    "    // let out = debt - kStart / ((l - 1.0M) * l * l * (collateral + collateralIn))\n",
    "    // // o = (c d (l - 1) + d (l - 1) t - k)/((l - 1) (c + t)) and (l - 1) (c + t)!=0 and l!=0\n",
    "    // let out = (collateral * debt * (l - 1.0M) + debt * (l - 1.0M) * collateralIn - kStart) / ((l - 1.0M) * (collateral + collateralIn))\n",
    "    // o = (c d + d t - k)/(c + t) and c + t!=0\n",
    "    // let out = (collateral * debt + debt * collateralIn - kStart) / (collateral + collateralIn)\n",
    "    // o = d - k/(l (c + t)) and l (c + t)!=0\n",
    "    // let out = debt - kStart / (l * (collateral + collateralIn))\n",
    "    // o = c - k/(d + t) and d + t!=0\n",
    "    // let out = collateral - kStart / (debt + collateralIn)\n",
    "    // o = c - (k (l - 1) l)/(d + t) and d + t!=0 and l^2 !=l\n",
    "    let out = debt - (kStart * (l - 1.0M) * l) / (collateral + collateralIn)   \n",
    "    // o = (c d + d t - k (l - 1) l)/(c + t) and c + t!=0 and l^2 !=l\n",
    "    let out = (collateral * debt + debt * collateralIn - kStart * (l - 1.0M) * l) / (collateral + collateralIn)\n",
    "\n",
    "\n",
    "    let newCollateral = collateral + collateralIn\n",
    "    let newDebt = debt + l * out\n",
    "    let newPrice = price newCollateral newDebt l\n",
    "    let newExcessCollateral = newCollateral - newDebt/newPrice\n",
    "    let newRatio = (newPrice * newCollateral) / newDebt\n",
    "    let newL = leverage newRatio\n",
    "    let newK = k newCollateral (newCollateral * newPrice - newDebt) newL\n",
    "\n",
    "    {| a = 0\n",
    "    ; oldL = l\n",
    "    ; oldK = k collateral debt l\n",
    "    ; oldPrice = currentPrice\n",
    "    ; oldExcessCollateral = excessCollateral\n",
    "    ; collateralIn = collateralIn\n",
    "    ; debtOut = out * l\n",
    "    ; newEffectivePrice = out * l / collateralIn\n",
    "    ; newCollateral = newCollateral\n",
    "    ; newExcessCollateral = newExcessCollateral\n",
    "    ; newDebt = newDebt\n",
    "    ; newL = newL\n",
    "    ; newK = newK\n",
    "    ; newPrice = newPrice\n",
    "    ; newRatio = newRatio\n",
    "    |}\n",
    "\n",
    "let o = debtOut 2.0M 2.0M 1000.0M 0.1M\n",
    "printfn \"debtOut: %A\" o\n",
    "\n",
    "\n",
    "\n"
   ],
   "outputs": [
    {
     "output_type": "stream",
     "name": "stdout",
     "text": [
      "debtOut: { a = 0\n",
      "  collateralIn = 0.1M\n",
      "  debtOut = 95.23809523809523809523809524M\n",
      "  newCollateral = 2.1M\n",
      "  newDebt = 1095.2380952380952380952380952M\n",
      "  newEffectivePrice = 952.3809523809523809523809524M\n",
      "  newExcessCollateral = 1.05M\n",
      "  newK = 1150M\n",
      "  newL = 2.0M\n",
      "  newPrice = 1043.0839002267573696145124716M\n",
      "  newRatio = 2M\n",
      "  oldExcessCollateral = 1.0M\n",
      "  oldK = 1000M\n",
      "  oldL = 2.0M\n",
      "  oldPrice = 1000M }\n"
     ]
    }
   ],
   "metadata": {
    "dotnet_interactive": {
     "language": "fsharp"
    }
   }
  },
  {
   "cell_type": "code",
   "execution_count": null,
   "source": [],
   "outputs": [],
   "metadata": {
    "dotnet_interactive": {
     "language": "fsharp"
    }
   }
  }
 ],
 "nbformat": 4,
 "nbformat_minor": 2
}