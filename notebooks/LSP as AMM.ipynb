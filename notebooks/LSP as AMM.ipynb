{
 "metadata": {
  "kernelspec": {
   "display_name": ".NET (F#)",
   "language": "F#",
   "name": ".net-fsharp"
  },
  "language_info": {
   "name": "F#"
  }
 },
 "cells": [
  {
   "cell_type": "code",
   "execution_count": null,
   "source": [
    "let leverage ratio = (1.0M / (ratio - 1.0M)) + 1.0M\n",
    "let price collateral debt l = (l * debt) / (collateral * (l - 1.0M))\n",
    "let k collateral debt l = (debt * collateral) / (l * (l - 1.0M)) // in complete flux\n",
    "\n",
    "let debtOut ratio collateral debt collateralIn = \n",
    "    let l = leverage ratio\n",
    "    let currentPrice = price collateral debt l\n",
    "    let excessCollateral = collateral - debt/currentPrice   \n",
    "    let kStart = k collateral debt l\n",
    "    //let out = debt - (kStart * (l - 1.0M) * l) / (collateral + collateralIn)\n",
    "\n",
    "    // o = d - (k (l - 1) l)/(c + i) and c + i!=0 and l^2 !=l\n",
    "    //let out = debt - (kStart * (l - 1.0M) * l) / (collateral + collateralIn)  \n",
    "    // o = (c d + l (d t + k (-l) + k))/((l - 1) (c + l t)) and (l - 1) (c + l t)!=0 and l!=0\n",
    "    //let out = (collateral * debt + (l * (debt * collateralIn - kStart * l + kStart))) / ((l - 1.0m) * (collateral + l * collateralIn))\n",
    "    // o = k/(l^2 (c + t)) - d and l (c + t)!=0\n",
    "    // let out = kStart / (l * l * (collateral + collateralIn)) - debt\n",
    "    // // o = k/((l - 1) l (c + t)) - d and (l - 1) l (c + t)!=0\n",
    "    // let out = kStart / ((l - 1.0M) * l * (collateral + collateralIn)) - debt\n",
    "    // // o = d - k/((l - 1) l (c + t)) and (l - 1) l (c + t)!=0\n",
    "    // let out = debt - kStart / ((l - 1.0M) * l * (collateral + collateralIn))\n",
    "    // // o = d - k/((l - 1) l^2 (c + t)) and (l - 1) l (c + t)!=0\n",
    "    // let out = debt - kStart / ((l - 1.0M) * l * l * (collateral + collateralIn))\n",
    "    // // o = (c d (l - 1) + d (l - 1) t - k)/((l - 1) (c + t)) and (l - 1) (c + t)!=0 and l!=0\n",
    "    // let out = (collateral * debt * (l - 1.0M) + debt * (l - 1.0M) * collateralIn - kStart) / ((l - 1.0M) * (collateral + collateralIn))\n",
    "    // o = (c d + d t - k)/(c + t) and c + t!=0\n",
    "    // let out = (collateral * debt + debt * collateralIn - kStart) / (collateral + collateralIn)\n",
    "    // o = d - k/(l (c + t)) and l (c + t)!=0\n",
    "    // let out = debt - kStart / (l * (collateral + collateralIn))\n",
    "    // o = c - k/(d + t) and d + t!=0\n",
    "    // let out = collateral - kStart / (debt + collateralIn)\n",
    "    // o = c - (k (l - 1) l)/(d + t) and d + t!=0 and l^2 !=l\n",
    "    let out = debt - (kStart * (l - 1.0M) * l) / (collateral + collateralIn)   \n",
    "    // o = (c d + d t - k (l - 1) l)/(c + t) and c + t!=0 and l^2 !=l\n",
    "    let out = (collateral * debt + debt * collateralIn - kStart * (l - 1.0M) * l) / (collateral + collateralIn)\n",
    "    // o = (c d + d t - k)/(c + t) and c + t!=0\n",
    "    let out = (collateral * debt + debt * collateralIn - kStart) / (collateral + collateralIn)\n",
    "\n",
    "    let newCollateral = collateral + collateralIn\n",
    "    let newDebt = debt + l * out\n",
    "    let newPrice = price newCollateral newDebt l\n",
    "    let newExcessCollateral = newCollateral - newDebt/newPrice\n",
    "    let newRatio = (newPrice * newCollateral) / newDebt\n",
    "    let newL = leverage newRatio\n",
    "    let newK = k newCollateral (newCollateral * newPrice - newDebt) newL\n",
    "\n",
    "    {| a = 0\n",
    "    ; oldL = l\n",
    "    ; oldK = k collateral debt l\n",
    "    ; oldPrice = currentPrice\n",
    "    ; oldExcessCollateral = excessCollateral\n",
    "    ; collateralIn = collateralIn\n",
    "    ; debtOut = out * l\n",
    "    ; newEffectivePrice = out * l / collateralIn\n",
    "    ; newCollateral = newCollateral\n",
    "    ; newExcessCollateral = newExcessCollateral\n",
    "    ; newDebt = newDebt\n",
    "    ; newL = newL\n",
    "    ; newK = newK\n",
    "    ; newPrice = newPrice\n",
    "    ; newRatio = newRatio\n",
    "    |}\n",
    "\n",
    "//let o = \n",
    "debtOut 2.0M 2.0M 1000.0M 0.1M\n",
    "//printfn \"debtOut: %A\" o"
   ],
   "outputs": [
    {
     "data": {
      "text/html": [
       "<table><thead><tr><th>a</th><th>collateralIn</th><th>debtOut</th><th>newCollateral</th><th>newDebt</th><th>newEffectivePrice</th><th>newExcessCollateral</th><th>newK</th><th>newL</th><th>newPrice</th><th>newRatio</th><th>oldExcessCollateral</th><th>oldK</th><th>oldL</th><th>oldPrice</th></tr></thead><tbody><tr><td><div class=\"dni-plaintext\">0</div></td><td><div class=\"dni-plaintext\">0.1</div></td><td><div class=\"dni-plaintext\">95.23809523809523809523809524</div></td><td><div class=\"dni-plaintext\">2.1</div></td><td><div class=\"dni-plaintext\">1095.2380952380952380952380952</div></td><td><div class=\"dni-plaintext\">952.3809523809523809523809524</div></td><td><div class=\"dni-plaintext\">1.05</div></td><td><div class=\"dni-plaintext\">1150</div></td><td><div class=\"dni-plaintext\">2.0</div></td><td><div class=\"dni-plaintext\">1043.0839002267573696145124716</div></td><td><div class=\"dni-plaintext\">2</div></td><td><div class=\"dni-plaintext\">1.0</div></td><td><div class=\"dni-plaintext\">1000</div></td><td><div class=\"dni-plaintext\">2.0</div></td><td><div class=\"dni-plaintext\">1000</div></td></tr></tbody></table>"
      ]
     },
     "metadata": {},
     "output_type": "display_data"
    }
   ],
   "metadata": {
    "dotnet_interactive": {
     "language": "fsharp"
    }
   }
  },
  {
   "cell_type": "code",
   "execution_count": null,
   "source": [
    "type LSP = \n",
    "    { collateral : float \n",
    "    ; debt : float\n",
    "    ; targetLeverage : float } \n",
    "\n",
    "let lsp = \n",
    "    { collateral = 2.0\n",
    "    ; debt = 3500.0\n",
    "    ; targetLeverage = 4.0}\n",
    "\n",
    "// premise:\n",
    "// the price of an asset should be the value of the collateral minus the debt divided by \n",
    "// the collateral minus the collateral based value of the debt\n",
    "let excessCollateral lsp = lsp.collateral / lsp.targetLeverage\n",
    "let excessCollateralValue lsp = lsp.debt / (lsp.targetLeverage-1.0)\n",
    "let k lsp = (excessCollateralValue lsp) * (excessCollateral lsp) \n",
    "\n",
    "// o = (c d (l - 1) + d (l - 1) t - k l)/((l - 1) (c + t)) and (l - 1) (c + t)!=0 and l!=0\n",
    "let outDebt lsp collateralIn = \n",
    "    let kStart = k lsp\n",
    "    (lsp.collateral * lsp.debt * (lsp.targetLeverage - 1.0) + lsp.debt * (lsp.targetLeverage - 1.0) * collateralIn - kStart) \n",
    "    / ((lsp.targetLeverage - 1.0) * (lsp.collateral + collateralIn))\n",
    "\n",
    "let price lsp = \n",
    "    {| excessCollateral = excessCollateral lsp\n",
    "    ; excessCollateralValue = excessCollateralValue lsp\n",
    "    ; price = (excessCollateralValue lsp) / (excessCollateral lsp)\n",
    "    |}\n",
    "\n",
    "// t = c - (k l)/((l - 1) (d + o)) and (l - 1) (d + o)!=0 and l!=0\n",
    "let outCollateral lsp debtIn = \n",
    "    let kStart = k lsp\n",
    "    let out = lsp.collateral - (kStart * lsp.targetLeverage) / ((lsp.targetLeverage - 1.0) * (lsp.debt + debtIn))\n",
    "    {|out = out\n",
    "    ; price = price lsp\n",
    "    ; effectivePrice = debtIn / out|}\n",
    "\n",
    "printf \"collateral returned: %A\\n\" (outCollateral lsp 10.0)\n",
    "\n",
    "// [price 1.0 1000.0 3.0;\n",
    "\n",
    "// // it follows that:\n",
    "// // * after a trade the price should have adjusted itself automatically in like with the trade's direction.\n",
    "// // * after a buy of collateral : price (collateral-buy) (debt+out) > price collateral debt\n",
    "\n",
    "// price (1.0 - 0.1) (1000.0 + 10.0) 3.0]\n"
   ],
   "outputs": [
    {
     "output_type": "stream",
     "name": "stdout",
     "text": [
      "collateral returned: { effectivePrice = 5.622997508\n",
      "  out = 1.77841089\n",
      "  price = { excessCollateral = 0.5\n",
      "            excessCollateralValue = 1166.666667\n",
      "            price = 2333.333333 } }\n"
     ]
    }
   ],
   "metadata": {
    "dotnet_interactive": {
     "language": "fsharp"
    }
   }
  },
  {
   "cell_type": "code",
   "execution_count": null,
   "source": [
    "let getK x y = x * y // (x*y) = (x + in) * (y - out) solve for out \n",
    "\n",
    "let outB a b i = \n",
    "    let k = getK a b\n",
    "    let out = (b - k/(a + i))\n",
    "    let kNew = getK (a + i) (b - out)\n",
    "    {|\n",
    "        k = k;\n",
    "        out = out;\n",
    "        kNew = kNew;\n",
    "        effectivePrice = out/i;\n",
    "    |}\n",
    "\n",
    "let outA a b i = outB b a i\n",
    "\n",
    "[outB 20.0M 10.0M 3.0M\n",
    ";outA 20.0M 10.0M 2.0M]\n"
   ],
   "outputs": [
    {
     "data": {
      "text/html": [
       "<table><thead><tr><th><i>index</i></th><th>effectivePrice</th><th>k</th><th>kNew</th><th>out</th></tr></thead><tbody><tr><td>0</td><td><div class=\"dni-plaintext\">0.4347826086956521739130434783</div></td><td><div class=\"dni-plaintext\">200.00</div></td><td><div class=\"dni-plaintext\">200.00000000000000000000000000</div></td><td><div class=\"dni-plaintext\">1.304347826086956521739130435</div></td></tr><tr><td>1</td><td><div class=\"dni-plaintext\">1.6666666666666666666666666665</div></td><td><div class=\"dni-plaintext\">200.00</div></td><td><div class=\"dni-plaintext\">200.00000000000000000000000000</div></td><td><div class=\"dni-plaintext\">3.333333333333333333333333333</div></td></tr></tbody></table>"
      ]
     },
     "metadata": {},
     "output_type": "display_data"
    }
   ],
   "metadata": {
    "dotnet_interactive": {
     "language": "fsharp"
    }
   }
  }
 ],
 "nbformat": 4,
 "nbformat_minor": 2
}